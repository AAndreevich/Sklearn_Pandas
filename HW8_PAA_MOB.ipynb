{
  "nbformat": 4,
  "nbformat_minor": 0,
  "metadata": {
    "colab": {
      "provenance": [],
      "toc_visible": true
    },
    "kernelspec": {
      "name": "python3",
      "display_name": "Python 3"
    },
    "language_info": {
      "name": "python"
    }
  },
  "cells": [
    {
      "cell_type": "markdown",
      "source": [
        "# Content"
      ],
      "metadata": {
        "id": "CHigLTxRTeyP"
      }
    },
    {
      "cell_type": "markdown",
      "source": [
        ">[Content](#scrollTo=CHigLTxRTeyP)\n",
        "\n",
        ">[Task](#scrollTo=xIXZUidfH5YJ)\n",
        "\n",
        ">[I Libraries and Functions](#scrollTo=FFeHm5fJ8c3Q)\n",
        "\n",
        ">>[1 Importing libraries](#scrollTo=3Hi7SeJvcR1r)\n",
        "\n",
        ">>[2 Definition of functions](#scrollTo=S-5A_f44RvG8)\n",
        "\n",
        ">[II Preporation Data](#scrollTo=xlpcRp_SKjvZ)\n",
        "\n",
        ">>[3 Load dataset](#scrollTo=Py1KbSvDPske)\n",
        "\n",
        ">>>[3.1 Info data](#scrollTo=3IwPmnxPPiQs)\n",
        "\n",
        ">>[4 Review data](#scrollTo=JH6N4PpCPuU0)\n",
        "\n",
        ">>[5 Drop NaN values](#scrollTo=DtZePYCZP0qk)\n",
        "\n",
        ">>[6 Save and load new dataset](#scrollTo=SFUsFD8tQEZX)\n",
        "\n",
        ">>[7 Encoding of features](#scrollTo=wCtSxrBeQO7N)\n",
        "\n",
        ">[III A/B testing](#scrollTo=IOjxGjAsUfK5)\n",
        "\n",
        ">>[8 Making calculations](#scrollTo=gAfrDF7JTPYp)\n",
        "\n",
        ">>>[8.1 Z-score table](#scrollTo=O6gS-WKPRY_r)\n",
        "\n",
        ">>>[8.2 Calculation of the Z-criterion](#scrollTo=DEPfFA6YRjmB)\n",
        "\n",
        ">>[9 Choosing a hypothesis](#scrollTo=XuAOeGNVSCJ0)\n",
        "\n"
      ],
      "metadata": {
        "colab_type": "toc",
        "id": "hPiiALXZTdhf"
      }
    },
    {
      "cell_type": "markdown",
      "source": [
        "# Task"
      ],
      "metadata": {
        "id": "xIXZUidfH5YJ"
      }
    },
    {
      "cell_type": "markdown",
      "source": [
        "\n",
        "1. Если мы рассчитали 95% доверительный интервал для среднего значения, то какие из следующих утверждений являются верными?\n",
        "\n",
        "Выберите несколько вариантов и попытайтесь объяснить свой выбор:\n",
        "\n",
        "a) Если многократно повторять эксперимент, то 95 % выборочных средних значений будут принадлежать рассчитанному нами доверительному интервалу.\n",
        "\n",
        "b) Мы можем быть на 95% уверены, что среднее значение в генеральной совокупности принадлежит рассчитанному доверительному интервалу.\n",
        "\n",
        "c) Если многократно повторять эксперимент, для каждой выборки рассчитывать свой доверительный интервал, то в 95 % случаев истинное среднее будет находиться внутри доверительного интервала.\n",
        "\n",
        "d) Среднее значение в генеральной совокупности точно превышает нижнюю границу 95% доверительного интервала.\n",
        "\n",
        "e) Среднее значение в генеральной совокупности точно принадлежит рассчитанному доверительному интервалу.\n",
        "\n",
        "2. Если мы увеличиваем объем выборки в два раза (при условии, что показатель стандартного отклонения остается неизменным), то 95% доверительный интервал\n",
        "\n",
        "Выберите один вариант из списка\n",
        "\n",
        "a) стал более узким\n",
        "b) возможны оба варианта\n",
        "c) стал более широким\n",
        "\n",
        "3. В центре 95% доверительного интервала, рассчитанного по выборочным значениям, находится:\n",
        "\n",
        "Выберите один вариант из списка\n",
        "\n",
        "a) Значение стандартной ошибки среднего\n",
        "b) Выборочное среднее значение\n",
        "c) Среднее значение генеральной совокупности\n",
        "\n",
        "4. Часто на практике нулевая гипотеза отклоняется, и различия считаются статистически достоверными, если p < 0,05. Однако часто в статистике используется более жесткий критерий достоверности различий, например, при условии, что p < 0,01. Значение p-уровня значимости, которое выбирается, в качестве порога обозначается буквой α (альфа). Например, если исследователь решил, что α = 0,05, то и нулевая гипотеза будет отклоняться при условии, что p < 0,05.\n",
        "\n",
        "Если в определенной ситуации весьма рискованно отклонить нулевую гипотезу, когда она на самом деле верна, то лучше использовать показатель α равный\n",
        "\n",
        "Выберите один вариант из списка\n",
        "\n",
        "a) 0,1\n",
        "b) 0,001\n",
        "c) 0,05\n",
        "d) 0,5\n",
        "\n",
        "5. Данные некоторого исследования сообщают нам, что средний рост детей в 14 лет составляет 166 сантиметров. Однако это лишь выборочная оценка, и исследователи рассчитали 95% доверительный интервал, который составил [160, 172]. Укажите верные утверждения:\n",
        "\n",
        "Выберите несколько вариантов и попытайтесь объяснить свой выбор:\n",
        "\n",
        "a) У нас достаточно оснований отклонить нулевую гипотезу, что среднее в генеральной совокупности равняется 173\n",
        "b) Вероятность того, что истинное среднее значение больше 172, составляет 0,01\n",
        "c) У нас достаточно оснований отклонить нулевую гипотезу, что среднее в генеральной совокупности равняется 158.\n",
        "d) Доверительный интервал не может иметь такие границы, т. к. выборочное стандартное отклонение равняется 10, следовательно доверительный интервал должен быть значительно шире.\n",
        "\n",
        "6. Предположим, нулевой гипотезой вашего исследования являлось предположение, что конверсия в генеральной совокупности равняется 0.4. Вы получили p = 0,12 и не смогли отклонить нулевую гипотезу. Однако позже выяснилось, что конверсия в генеральной совокупности действиетльно равна 0.4. Как можно оценить результаты?\n",
        "\n",
        "\n",
        "Какой вариант корректный по вашему мнению и почему?\n",
        "a) Вы не совершали ни ошибку первого рода, ни ошибку второго рода.\n",
        "b) Вы совершили ошибку первого рода\n",
        "c) Вы совершили ошибку второго рода"
      ],
      "metadata": {
        "id": "xPyRr-5zIOSO"
      }
    },
    {
      "cell_type": "markdown",
      "source": [
        "7. Взять датасет из google диска: https://drive.google.com/file/d/1MpWBFIbqu4mbiD0BBKYX6YhS-f4mN3Z_.\n",
        "\n",
        "Проверить гипотезу о том, в каком варианте теста (control/personalization) больше конверсия (converted) и значимо ли это отличие статистически."
      ],
      "metadata": {
        "id": "kyl86EKv8IjW"
      }
    },
    {
      "cell_type": "markdown",
      "source": [
        "# I Libraries and Functions"
      ],
      "metadata": {
        "id": "FFeHm5fJ8c3Q"
      }
    },
    {
      "cell_type": "markdown",
      "source": [
        "## 1 Importing libraries\n"
      ],
      "metadata": {
        "id": "3Hi7SeJvcR1r"
      }
    },
    {
      "cell_type": "code",
      "source": [
        "import os\n",
        "import re\n",
        "import time\n",
        "import shutil\n",
        "import pickle\n",
        "from google.colab import drive, files\n",
        "import numpy as np\n",
        "import pandas as pd\n",
        "import matplotlib.pyplot as plt\n",
        "from sklearn.model_selection import train_test_split\n",
        "from sklearn.preprocessing import StandardScaler\n",
        "from sklearn.linear_model import LogisticRegression\n",
        "from sklearn.feature_selection import SelectFromModel\n",
        "from sklearn.ensemble import RandomForestClassifier\n",
        "from sklearn.tree import DecisionTreeClassifier\n",
        "from sklearn.base import BaseEstimator, TransformerMixin\n",
        "from sklearn.pipeline import Pipeline, FeatureUnion\n",
        "import seaborn as sns\n",
        "from sklearn.metrics import f1_score, precision_recall_curve, roc_curve, roc_auc_score, \\\n",
        "    confusion_matrix, roc_auc_score, precision_score, classification_report, recall_score, \\\n",
        "    accuracy_score, r2_score\n",
        "from xgboost import XGBClassifier"
      ],
      "metadata": {
        "id": "QuSX4jBuKO_j"
      },
      "execution_count": null,
      "outputs": []
    },
    {
      "cell_type": "markdown",
      "source": [
        "## 2 Definition of functions"
      ],
      "metadata": {
        "id": "S-5A_f44RvG8"
      }
    },
    {
      "cell_type": "code",
      "source": [
        "star = lambda x:\"\\n\" + x*50 + \"\\n\"\n",
        "\n",
        "def Mkdir(dir_name):\n",
        "    if os.path.exists(dir_name):\n",
        "        shutil.rmtree(dir_name)\n",
        "    os.makedirs(dir_name)"
      ],
      "metadata": {
        "id": "GejB9hhaLl2a"
      },
      "execution_count": null,
      "outputs": []
    },
    {
      "cell_type": "markdown",
      "source": [
        "# II Preporation Data"
      ],
      "metadata": {
        "id": "xlpcRp_SKjvZ"
      }
    },
    {
      "cell_type": "markdown",
      "source": [
        "## 3 Load dataset"
      ],
      "metadata": {
        "id": "Py1KbSvDPske"
      }
    },
    {
      "cell_type": "code",
      "source": [
        "drive.mount(\"/content/drive/\")"
      ],
      "metadata": {
        "colab": {
          "base_uri": "https://localhost:8080/"
        },
        "id": "BH-6N4DjO6Wt",
        "outputId": "b31cde2a-c40e-4569-e7f6-5b5d5087a645"
      },
      "execution_count": null,
      "outputs": [
        {
          "output_type": "stream",
          "name": "stdout",
          "text": [
            "Mounted at /content/drive/\n"
          ]
        }
      ]
    },
    {
      "cell_type": "code",
      "source": [
        "path_to_work_dir = \"/content/drive/MyDrive/HW8_MOB/\""
      ],
      "metadata": {
        "id": "dlk4M99FPN_S"
      },
      "execution_count": null,
      "outputs": []
    },
    {
      "cell_type": "code",
      "source": [
        "# Mkdir(path_to_work_dir)"
      ],
      "metadata": {
        "id": "lngDbJiQPdFD"
      },
      "execution_count": null,
      "outputs": []
    },
    {
      "cell_type": "code",
      "source": [
        "# !wget 'https://drive.google.com/uc?export=download&id=1MpWBFIbqu4mbiD0BBKYX6YhS-f4mN3Z_' -O \"/content/drive/MyDrive/HW8_MOB/data.zip\""
      ],
      "metadata": {
        "id": "bNTF8iLLPfxc"
      },
      "execution_count": null,
      "outputs": []
    },
    {
      "cell_type": "code",
      "source": [
        "# os.listdir(path_to_work_dir)"
      ],
      "metadata": {
        "id": "nVwW4Rjo2SPW"
      },
      "execution_count": null,
      "outputs": []
    },
    {
      "cell_type": "code",
      "source": [
        "# !unzip \"/content/drive/MyDrive/HW8_MOB/data.zip\" -d \"/content/drive/MyDrive/HW8_MOB/\""
      ],
      "metadata": {
        "id": "cM8f8BMV2dUw"
      },
      "execution_count": null,
      "outputs": []
    },
    {
      "cell_type": "code",
      "source": [
        "# os.listdir(path_to_work_dir)"
      ],
      "metadata": {
        "id": "Whhf1tC32nBb"
      },
      "execution_count": null,
      "outputs": []
    },
    {
      "cell_type": "markdown",
      "source": [
        "### 3.1 Info data"
      ],
      "metadata": {
        "id": "3IwPmnxPPiQs"
      }
    },
    {
      "cell_type": "code",
      "source": [
        "with open(path_to_work_dir + \"marketing description.txt\", \"r\", encoding=\"utf-8\") as f:\n",
        "    count = 0\n",
        "    for row in f:\n",
        "        print(row)"
      ],
      "metadata": {
        "colab": {
          "base_uri": "https://localhost:8080/"
        },
        "id": "UgH3vgEp7IEV",
        "outputId": "a9247744-b871-4c66-a721-eb3261db99ce"
      },
      "execution_count": null,
      "outputs": [
        {
          "output_type": "stream",
          "name": "stdout",
          "text": [
            "1) user_id: идентификатор пользователя\n",
            "\n",
            "\n",
            "\n",
            "2) date_served: дата события\n",
            "\n",
            "\n",
            "\n",
            "3) marketing_channel: рекламный канал\n",
            "\n",
            "\n",
            "\n",
            "4) variant: показанный вариант рекламы\n",
            "\n",
            "\n",
            "\n",
            "5) converted: конверсия в покупку, 1 - пользователь совершил покупку, 0 - нет\n",
            "\n",
            "\n",
            "\n",
            "6) language_displayed: язык рекламного сообщения\n",
            "\n",
            "\n",
            "\n",
            "7) language_preferred: предпочитаемый пользователем язык\n",
            "\n",
            "\n",
            "\n",
            "8) age_group: возрастная группа пользователя\n",
            "\n",
            "\n",
            "\n",
            "9) date_subscribed: дата подписки на сервис\n",
            "\n",
            "\n",
            "\n",
            "10) date_canceled: дата отказа от подписки\n",
            "\n",
            "\n",
            "\n",
            "11) subscribing_channel: с какого рекламного канал пришел пользователь, когда подписался на сервис\n",
            "\n",
            "\n",
            "\n",
            "12) is_retained: удержание, 1 - пользователь продолжает пользоваться услугами сервиса, 0 - пользователь отвалился \n",
            "\n",
            "\n",
            "\n",
            "Источник: https://www.kaggle.com/kavitabhagwani/marketing-campaign\n"
          ]
        }
      ]
    },
    {
      "cell_type": "code",
      "source": [
        "df = pd.read_csv(path_to_work_dir + \"marketing_campaign.csv\")\n",
        "df.head(3)"
      ],
      "metadata": {
        "colab": {
          "base_uri": "https://localhost:8080/",
          "height": 143
        },
        "id": "LkDuiMIHPxJw",
        "outputId": "e5f1c462-a538-4208-bf73-6e4f9bce334f"
      },
      "execution_count": null,
      "outputs": [
        {
          "output_type": "execute_result",
          "data": {
            "text/plain": [
              "  user_id date_served marketing_channel          variant language_displayed  \\\n",
              "0   a1000      1/1/18         House Ads  personalization            English   \n",
              "1   a1001      1/1/18         House Ads  personalization            English   \n",
              "2   a1002      1/1/18         House Ads  personalization            English   \n",
              "\n",
              "  converted  \n",
              "0      True  \n",
              "1      True  \n",
              "2      True  "
            ],
            "text/html": [
              "\n",
              "  <div id=\"df-5ef9f739-3995-4f7e-b154-e6016aecafa5\" class=\"colab-df-container\">\n",
              "    <div>\n",
              "<style scoped>\n",
              "    .dataframe tbody tr th:only-of-type {\n",
              "        vertical-align: middle;\n",
              "    }\n",
              "\n",
              "    .dataframe tbody tr th {\n",
              "        vertical-align: top;\n",
              "    }\n",
              "\n",
              "    .dataframe thead th {\n",
              "        text-align: right;\n",
              "    }\n",
              "</style>\n",
              "<table border=\"1\" class=\"dataframe\">\n",
              "  <thead>\n",
              "    <tr style=\"text-align: right;\">\n",
              "      <th></th>\n",
              "      <th>user_id</th>\n",
              "      <th>date_served</th>\n",
              "      <th>marketing_channel</th>\n",
              "      <th>variant</th>\n",
              "      <th>language_displayed</th>\n",
              "      <th>converted</th>\n",
              "    </tr>\n",
              "  </thead>\n",
              "  <tbody>\n",
              "    <tr>\n",
              "      <th>0</th>\n",
              "      <td>a1000</td>\n",
              "      <td>1/1/18</td>\n",
              "      <td>House Ads</td>\n",
              "      <td>personalization</td>\n",
              "      <td>English</td>\n",
              "      <td>True</td>\n",
              "    </tr>\n",
              "    <tr>\n",
              "      <th>1</th>\n",
              "      <td>a1001</td>\n",
              "      <td>1/1/18</td>\n",
              "      <td>House Ads</td>\n",
              "      <td>personalization</td>\n",
              "      <td>English</td>\n",
              "      <td>True</td>\n",
              "    </tr>\n",
              "    <tr>\n",
              "      <th>2</th>\n",
              "      <td>a1002</td>\n",
              "      <td>1/1/18</td>\n",
              "      <td>House Ads</td>\n",
              "      <td>personalization</td>\n",
              "      <td>English</td>\n",
              "      <td>True</td>\n",
              "    </tr>\n",
              "  </tbody>\n",
              "</table>\n",
              "</div>\n",
              "    <div class=\"colab-df-buttons\">\n",
              "\n",
              "  <div class=\"colab-df-container\">\n",
              "    <button class=\"colab-df-convert\" onclick=\"convertToInteractive('df-5ef9f739-3995-4f7e-b154-e6016aecafa5')\"\n",
              "            title=\"Convert this dataframe to an interactive table.\"\n",
              "            style=\"display:none;\">\n",
              "\n",
              "  <svg xmlns=\"http://www.w3.org/2000/svg\" height=\"24px\" viewBox=\"0 -960 960 960\">\n",
              "    <path d=\"M120-120v-720h720v720H120Zm60-500h600v-160H180v160Zm220 220h160v-160H400v160Zm0 220h160v-160H400v160ZM180-400h160v-160H180v160Zm440 0h160v-160H620v160ZM180-180h160v-160H180v160Zm440 0h160v-160H620v160Z\"/>\n",
              "  </svg>\n",
              "    </button>\n",
              "\n",
              "  <style>\n",
              "    .colab-df-container {\n",
              "      display:flex;\n",
              "      gap: 12px;\n",
              "    }\n",
              "\n",
              "    .colab-df-convert {\n",
              "      background-color: #E8F0FE;\n",
              "      border: none;\n",
              "      border-radius: 50%;\n",
              "      cursor: pointer;\n",
              "      display: none;\n",
              "      fill: #1967D2;\n",
              "      height: 32px;\n",
              "      padding: 0 0 0 0;\n",
              "      width: 32px;\n",
              "    }\n",
              "\n",
              "    .colab-df-convert:hover {\n",
              "      background-color: #E2EBFA;\n",
              "      box-shadow: 0px 1px 2px rgba(60, 64, 67, 0.3), 0px 1px 3px 1px rgba(60, 64, 67, 0.15);\n",
              "      fill: #174EA6;\n",
              "    }\n",
              "\n",
              "    .colab-df-buttons div {\n",
              "      margin-bottom: 4px;\n",
              "    }\n",
              "\n",
              "    [theme=dark] .colab-df-convert {\n",
              "      background-color: #3B4455;\n",
              "      fill: #D2E3FC;\n",
              "    }\n",
              "\n",
              "    [theme=dark] .colab-df-convert:hover {\n",
              "      background-color: #434B5C;\n",
              "      box-shadow: 0px 1px 3px 1px rgba(0, 0, 0, 0.15);\n",
              "      filter: drop-shadow(0px 1px 2px rgba(0, 0, 0, 0.3));\n",
              "      fill: #FFFFFF;\n",
              "    }\n",
              "  </style>\n",
              "\n",
              "    <script>\n",
              "      const buttonEl =\n",
              "        document.querySelector('#df-5ef9f739-3995-4f7e-b154-e6016aecafa5 button.colab-df-convert');\n",
              "      buttonEl.style.display =\n",
              "        google.colab.kernel.accessAllowed ? 'block' : 'none';\n",
              "\n",
              "      async function convertToInteractive(key) {\n",
              "        const element = document.querySelector('#df-5ef9f739-3995-4f7e-b154-e6016aecafa5');\n",
              "        const dataTable =\n",
              "          await google.colab.kernel.invokeFunction('convertToInteractive',\n",
              "                                                    [key], {});\n",
              "        if (!dataTable) return;\n",
              "\n",
              "        const docLinkHtml = 'Like what you see? Visit the ' +\n",
              "          '<a target=\"_blank\" href=https://colab.research.google.com/notebooks/data_table.ipynb>data table notebook</a>'\n",
              "          + ' to learn more about interactive tables.';\n",
              "        element.innerHTML = '';\n",
              "        dataTable['output_type'] = 'display_data';\n",
              "        await google.colab.output.renderOutput(dataTable, element);\n",
              "        const docLink = document.createElement('div');\n",
              "        docLink.innerHTML = docLinkHtml;\n",
              "        element.appendChild(docLink);\n",
              "      }\n",
              "    </script>\n",
              "  </div>\n",
              "\n",
              "\n",
              "<div id=\"df-dfa16985-bb83-4222-bab8-2be8ce5f01ec\">\n",
              "  <button class=\"colab-df-quickchart\" onclick=\"quickchart('df-dfa16985-bb83-4222-bab8-2be8ce5f01ec')\"\n",
              "            title=\"Suggest charts\"\n",
              "            style=\"display:none;\">\n",
              "\n",
              "<svg xmlns=\"http://www.w3.org/2000/svg\" height=\"24px\"viewBox=\"0 0 24 24\"\n",
              "     width=\"24px\">\n",
              "    <g>\n",
              "        <path d=\"M19 3H5c-1.1 0-2 .9-2 2v14c0 1.1.9 2 2 2h14c1.1 0 2-.9 2-2V5c0-1.1-.9-2-2-2zM9 17H7v-7h2v7zm4 0h-2V7h2v10zm4 0h-2v-4h2v4z\"/>\n",
              "    </g>\n",
              "</svg>\n",
              "  </button>\n",
              "\n",
              "<style>\n",
              "  .colab-df-quickchart {\n",
              "      --bg-color: #E8F0FE;\n",
              "      --fill-color: #1967D2;\n",
              "      --hover-bg-color: #E2EBFA;\n",
              "      --hover-fill-color: #174EA6;\n",
              "      --disabled-fill-color: #AAA;\n",
              "      --disabled-bg-color: #DDD;\n",
              "  }\n",
              "\n",
              "  [theme=dark] .colab-df-quickchart {\n",
              "      --bg-color: #3B4455;\n",
              "      --fill-color: #D2E3FC;\n",
              "      --hover-bg-color: #434B5C;\n",
              "      --hover-fill-color: #FFFFFF;\n",
              "      --disabled-bg-color: #3B4455;\n",
              "      --disabled-fill-color: #666;\n",
              "  }\n",
              "\n",
              "  .colab-df-quickchart {\n",
              "    background-color: var(--bg-color);\n",
              "    border: none;\n",
              "    border-radius: 50%;\n",
              "    cursor: pointer;\n",
              "    display: none;\n",
              "    fill: var(--fill-color);\n",
              "    height: 32px;\n",
              "    padding: 0;\n",
              "    width: 32px;\n",
              "  }\n",
              "\n",
              "  .colab-df-quickchart:hover {\n",
              "    background-color: var(--hover-bg-color);\n",
              "    box-shadow: 0 1px 2px rgba(60, 64, 67, 0.3), 0 1px 3px 1px rgba(60, 64, 67, 0.15);\n",
              "    fill: var(--button-hover-fill-color);\n",
              "  }\n",
              "\n",
              "  .colab-df-quickchart-complete:disabled,\n",
              "  .colab-df-quickchart-complete:disabled:hover {\n",
              "    background-color: var(--disabled-bg-color);\n",
              "    fill: var(--disabled-fill-color);\n",
              "    box-shadow: none;\n",
              "  }\n",
              "\n",
              "  .colab-df-spinner {\n",
              "    border: 2px solid var(--fill-color);\n",
              "    border-color: transparent;\n",
              "    border-bottom-color: var(--fill-color);\n",
              "    animation:\n",
              "      spin 1s steps(1) infinite;\n",
              "  }\n",
              "\n",
              "  @keyframes spin {\n",
              "    0% {\n",
              "      border-color: transparent;\n",
              "      border-bottom-color: var(--fill-color);\n",
              "      border-left-color: var(--fill-color);\n",
              "    }\n",
              "    20% {\n",
              "      border-color: transparent;\n",
              "      border-left-color: var(--fill-color);\n",
              "      border-top-color: var(--fill-color);\n",
              "    }\n",
              "    30% {\n",
              "      border-color: transparent;\n",
              "      border-left-color: var(--fill-color);\n",
              "      border-top-color: var(--fill-color);\n",
              "      border-right-color: var(--fill-color);\n",
              "    }\n",
              "    40% {\n",
              "      border-color: transparent;\n",
              "      border-right-color: var(--fill-color);\n",
              "      border-top-color: var(--fill-color);\n",
              "    }\n",
              "    60% {\n",
              "      border-color: transparent;\n",
              "      border-right-color: var(--fill-color);\n",
              "    }\n",
              "    80% {\n",
              "      border-color: transparent;\n",
              "      border-right-color: var(--fill-color);\n",
              "      border-bottom-color: var(--fill-color);\n",
              "    }\n",
              "    90% {\n",
              "      border-color: transparent;\n",
              "      border-bottom-color: var(--fill-color);\n",
              "    }\n",
              "  }\n",
              "</style>\n",
              "\n",
              "  <script>\n",
              "    async function quickchart(key) {\n",
              "      const quickchartButtonEl =\n",
              "        document.querySelector('#' + key + ' button');\n",
              "      quickchartButtonEl.disabled = true;  // To prevent multiple clicks.\n",
              "      quickchartButtonEl.classList.add('colab-df-spinner');\n",
              "      try {\n",
              "        const charts = await google.colab.kernel.invokeFunction(\n",
              "            'suggestCharts', [key], {});\n",
              "      } catch (error) {\n",
              "        console.error('Error during call to suggestCharts:', error);\n",
              "      }\n",
              "      quickchartButtonEl.classList.remove('colab-df-spinner');\n",
              "      quickchartButtonEl.classList.add('colab-df-quickchart-complete');\n",
              "    }\n",
              "    (() => {\n",
              "      let quickchartButtonEl =\n",
              "        document.querySelector('#df-dfa16985-bb83-4222-bab8-2be8ce5f01ec button');\n",
              "      quickchartButtonEl.style.display =\n",
              "        google.colab.kernel.accessAllowed ? 'block' : 'none';\n",
              "    })();\n",
              "  </script>\n",
              "</div>\n",
              "    </div>\n",
              "  </div>\n"
            ]
          },
          "metadata": {},
          "execution_count": 130
        }
      ]
    },
    {
      "cell_type": "code",
      "source": [
        "target = \"converted\""
      ],
      "metadata": {
        "id": "i-eS4WVtRldX"
      },
      "execution_count": null,
      "outputs": []
    },
    {
      "cell_type": "code",
      "source": [
        "df[target].value_counts()"
      ],
      "metadata": {
        "colab": {
          "base_uri": "https://localhost:8080/"
        },
        "id": "ceA-DxhdSH1i",
        "outputId": "0ec8c2ae-ce5d-447b-eea5-1782031c7d08"
      },
      "execution_count": null,
      "outputs": [
        {
          "output_type": "execute_result",
          "data": {
            "text/plain": [
              "False    8946\n",
              "True     1076\n",
              "Name: converted, dtype: int64"
            ]
          },
          "metadata": {},
          "execution_count": 132
        }
      ]
    },
    {
      "cell_type": "markdown",
      "source": [
        "## 4 Review data"
      ],
      "metadata": {
        "id": "JH6N4PpCPuU0"
      }
    },
    {
      "cell_type": "code",
      "source": [
        "df.info()"
      ],
      "metadata": {
        "colab": {
          "base_uri": "https://localhost:8080/"
        },
        "id": "x4hD4f88SMr9",
        "outputId": "4b629466-8c1d-4380-addb-92cdb9285013"
      },
      "execution_count": null,
      "outputs": [
        {
          "output_type": "stream",
          "name": "stdout",
          "text": [
            "<class 'pandas.core.frame.DataFrame'>\n",
            "RangeIndex: 10037 entries, 0 to 10036\n",
            "Data columns (total 6 columns):\n",
            " #   Column              Non-Null Count  Dtype \n",
            "---  ------              --------------  ----- \n",
            " 0   user_id             10037 non-null  object\n",
            " 1   date_served         10021 non-null  object\n",
            " 2   marketing_channel   10022 non-null  object\n",
            " 3   variant             10037 non-null  object\n",
            " 4   language_displayed  10037 non-null  object\n",
            " 5   converted           10022 non-null  object\n",
            "dtypes: object(6)\n",
            "memory usage: 470.6+ KB\n"
          ]
        }
      ]
    },
    {
      "cell_type": "code",
      "source": [
        "df.isna().sum()"
      ],
      "metadata": {
        "colab": {
          "base_uri": "https://localhost:8080/"
        },
        "id": "yzBzs_g_AwFd",
        "outputId": "37379175-4e60-48c5-a626-373a1f748904"
      },
      "execution_count": null,
      "outputs": [
        {
          "output_type": "execute_result",
          "data": {
            "text/plain": [
              "user_id                0\n",
              "date_served           16\n",
              "marketing_channel     15\n",
              "variant                0\n",
              "language_displayed     0\n",
              "converted             15\n",
              "dtype: int64"
            ]
          },
          "metadata": {},
          "execution_count": 134
        }
      ]
    },
    {
      "cell_type": "markdown",
      "source": [
        "## 5 Drop NaN values"
      ],
      "metadata": {
        "id": "DtZePYCZP0qk"
      }
    },
    {
      "cell_type": "code",
      "source": [
        "df[df[\"converted\"].isna()]"
      ],
      "metadata": {
        "colab": {
          "base_uri": "https://localhost:8080/",
          "height": 520
        },
        "id": "cVFPjrf9Nr6z",
        "outputId": "345a1b4c-7981-4bd8-a9ee-c23fc0473240"
      },
      "execution_count": null,
      "outputs": [
        {
          "output_type": "execute_result",
          "data": {
            "text/plain": [
              "     user_id date_served marketing_channel  variant language_displayed  \\\n",
              "9944  a10944         NaN               NaN  control            English   \n",
              "9945  a10945         NaN               NaN  control            English   \n",
              "9946  a10946         NaN               NaN  control            English   \n",
              "9947  a10947         NaN               NaN  control            English   \n",
              "9948  a10948         NaN               NaN  control            English   \n",
              "9949  a10949         NaN               NaN  control            English   \n",
              "9950  a10950         NaN               NaN  control            English   \n",
              "9951  a10951         NaN               NaN  control            English   \n",
              "9952  a10952         NaN               NaN  control            English   \n",
              "9953  a10953         NaN               NaN  control            English   \n",
              "9954  a10954         NaN               NaN  control            English   \n",
              "9955  a10955         NaN               NaN  control            English   \n",
              "9956  a10956         NaN               NaN  control            English   \n",
              "9957  a10957         NaN               NaN  control            English   \n",
              "9958  a10958         NaN               NaN  control            English   \n",
              "\n",
              "     converted  \n",
              "9944       NaN  \n",
              "9945       NaN  \n",
              "9946       NaN  \n",
              "9947       NaN  \n",
              "9948       NaN  \n",
              "9949       NaN  \n",
              "9950       NaN  \n",
              "9951       NaN  \n",
              "9952       NaN  \n",
              "9953       NaN  \n",
              "9954       NaN  \n",
              "9955       NaN  \n",
              "9956       NaN  \n",
              "9957       NaN  \n",
              "9958       NaN  "
            ],
            "text/html": [
              "\n",
              "  <div id=\"df-3e79c62d-fc69-402d-8035-52cbbf438eb4\" class=\"colab-df-container\">\n",
              "    <div>\n",
              "<style scoped>\n",
              "    .dataframe tbody tr th:only-of-type {\n",
              "        vertical-align: middle;\n",
              "    }\n",
              "\n",
              "    .dataframe tbody tr th {\n",
              "        vertical-align: top;\n",
              "    }\n",
              "\n",
              "    .dataframe thead th {\n",
              "        text-align: right;\n",
              "    }\n",
              "</style>\n",
              "<table border=\"1\" class=\"dataframe\">\n",
              "  <thead>\n",
              "    <tr style=\"text-align: right;\">\n",
              "      <th></th>\n",
              "      <th>user_id</th>\n",
              "      <th>date_served</th>\n",
              "      <th>marketing_channel</th>\n",
              "      <th>variant</th>\n",
              "      <th>language_displayed</th>\n",
              "      <th>converted</th>\n",
              "    </tr>\n",
              "  </thead>\n",
              "  <tbody>\n",
              "    <tr>\n",
              "      <th>9944</th>\n",
              "      <td>a10944</td>\n",
              "      <td>NaN</td>\n",
              "      <td>NaN</td>\n",
              "      <td>control</td>\n",
              "      <td>English</td>\n",
              "      <td>NaN</td>\n",
              "    </tr>\n",
              "    <tr>\n",
              "      <th>9945</th>\n",
              "      <td>a10945</td>\n",
              "      <td>NaN</td>\n",
              "      <td>NaN</td>\n",
              "      <td>control</td>\n",
              "      <td>English</td>\n",
              "      <td>NaN</td>\n",
              "    </tr>\n",
              "    <tr>\n",
              "      <th>9946</th>\n",
              "      <td>a10946</td>\n",
              "      <td>NaN</td>\n",
              "      <td>NaN</td>\n",
              "      <td>control</td>\n",
              "      <td>English</td>\n",
              "      <td>NaN</td>\n",
              "    </tr>\n",
              "    <tr>\n",
              "      <th>9947</th>\n",
              "      <td>a10947</td>\n",
              "      <td>NaN</td>\n",
              "      <td>NaN</td>\n",
              "      <td>control</td>\n",
              "      <td>English</td>\n",
              "      <td>NaN</td>\n",
              "    </tr>\n",
              "    <tr>\n",
              "      <th>9948</th>\n",
              "      <td>a10948</td>\n",
              "      <td>NaN</td>\n",
              "      <td>NaN</td>\n",
              "      <td>control</td>\n",
              "      <td>English</td>\n",
              "      <td>NaN</td>\n",
              "    </tr>\n",
              "    <tr>\n",
              "      <th>9949</th>\n",
              "      <td>a10949</td>\n",
              "      <td>NaN</td>\n",
              "      <td>NaN</td>\n",
              "      <td>control</td>\n",
              "      <td>English</td>\n",
              "      <td>NaN</td>\n",
              "    </tr>\n",
              "    <tr>\n",
              "      <th>9950</th>\n",
              "      <td>a10950</td>\n",
              "      <td>NaN</td>\n",
              "      <td>NaN</td>\n",
              "      <td>control</td>\n",
              "      <td>English</td>\n",
              "      <td>NaN</td>\n",
              "    </tr>\n",
              "    <tr>\n",
              "      <th>9951</th>\n",
              "      <td>a10951</td>\n",
              "      <td>NaN</td>\n",
              "      <td>NaN</td>\n",
              "      <td>control</td>\n",
              "      <td>English</td>\n",
              "      <td>NaN</td>\n",
              "    </tr>\n",
              "    <tr>\n",
              "      <th>9952</th>\n",
              "      <td>a10952</td>\n",
              "      <td>NaN</td>\n",
              "      <td>NaN</td>\n",
              "      <td>control</td>\n",
              "      <td>English</td>\n",
              "      <td>NaN</td>\n",
              "    </tr>\n",
              "    <tr>\n",
              "      <th>9953</th>\n",
              "      <td>a10953</td>\n",
              "      <td>NaN</td>\n",
              "      <td>NaN</td>\n",
              "      <td>control</td>\n",
              "      <td>English</td>\n",
              "      <td>NaN</td>\n",
              "    </tr>\n",
              "    <tr>\n",
              "      <th>9954</th>\n",
              "      <td>a10954</td>\n",
              "      <td>NaN</td>\n",
              "      <td>NaN</td>\n",
              "      <td>control</td>\n",
              "      <td>English</td>\n",
              "      <td>NaN</td>\n",
              "    </tr>\n",
              "    <tr>\n",
              "      <th>9955</th>\n",
              "      <td>a10955</td>\n",
              "      <td>NaN</td>\n",
              "      <td>NaN</td>\n",
              "      <td>control</td>\n",
              "      <td>English</td>\n",
              "      <td>NaN</td>\n",
              "    </tr>\n",
              "    <tr>\n",
              "      <th>9956</th>\n",
              "      <td>a10956</td>\n",
              "      <td>NaN</td>\n",
              "      <td>NaN</td>\n",
              "      <td>control</td>\n",
              "      <td>English</td>\n",
              "      <td>NaN</td>\n",
              "    </tr>\n",
              "    <tr>\n",
              "      <th>9957</th>\n",
              "      <td>a10957</td>\n",
              "      <td>NaN</td>\n",
              "      <td>NaN</td>\n",
              "      <td>control</td>\n",
              "      <td>English</td>\n",
              "      <td>NaN</td>\n",
              "    </tr>\n",
              "    <tr>\n",
              "      <th>9958</th>\n",
              "      <td>a10958</td>\n",
              "      <td>NaN</td>\n",
              "      <td>NaN</td>\n",
              "      <td>control</td>\n",
              "      <td>English</td>\n",
              "      <td>NaN</td>\n",
              "    </tr>\n",
              "  </tbody>\n",
              "</table>\n",
              "</div>\n",
              "    <div class=\"colab-df-buttons\">\n",
              "\n",
              "  <div class=\"colab-df-container\">\n",
              "    <button class=\"colab-df-convert\" onclick=\"convertToInteractive('df-3e79c62d-fc69-402d-8035-52cbbf438eb4')\"\n",
              "            title=\"Convert this dataframe to an interactive table.\"\n",
              "            style=\"display:none;\">\n",
              "\n",
              "  <svg xmlns=\"http://www.w3.org/2000/svg\" height=\"24px\" viewBox=\"0 -960 960 960\">\n",
              "    <path d=\"M120-120v-720h720v720H120Zm60-500h600v-160H180v160Zm220 220h160v-160H400v160Zm0 220h160v-160H400v160ZM180-400h160v-160H180v160Zm440 0h160v-160H620v160ZM180-180h160v-160H180v160Zm440 0h160v-160H620v160Z\"/>\n",
              "  </svg>\n",
              "    </button>\n",
              "\n",
              "  <style>\n",
              "    .colab-df-container {\n",
              "      display:flex;\n",
              "      gap: 12px;\n",
              "    }\n",
              "\n",
              "    .colab-df-convert {\n",
              "      background-color: #E8F0FE;\n",
              "      border: none;\n",
              "      border-radius: 50%;\n",
              "      cursor: pointer;\n",
              "      display: none;\n",
              "      fill: #1967D2;\n",
              "      height: 32px;\n",
              "      padding: 0 0 0 0;\n",
              "      width: 32px;\n",
              "    }\n",
              "\n",
              "    .colab-df-convert:hover {\n",
              "      background-color: #E2EBFA;\n",
              "      box-shadow: 0px 1px 2px rgba(60, 64, 67, 0.3), 0px 1px 3px 1px rgba(60, 64, 67, 0.15);\n",
              "      fill: #174EA6;\n",
              "    }\n",
              "\n",
              "    .colab-df-buttons div {\n",
              "      margin-bottom: 4px;\n",
              "    }\n",
              "\n",
              "    [theme=dark] .colab-df-convert {\n",
              "      background-color: #3B4455;\n",
              "      fill: #D2E3FC;\n",
              "    }\n",
              "\n",
              "    [theme=dark] .colab-df-convert:hover {\n",
              "      background-color: #434B5C;\n",
              "      box-shadow: 0px 1px 3px 1px rgba(0, 0, 0, 0.15);\n",
              "      filter: drop-shadow(0px 1px 2px rgba(0, 0, 0, 0.3));\n",
              "      fill: #FFFFFF;\n",
              "    }\n",
              "  </style>\n",
              "\n",
              "    <script>\n",
              "      const buttonEl =\n",
              "        document.querySelector('#df-3e79c62d-fc69-402d-8035-52cbbf438eb4 button.colab-df-convert');\n",
              "      buttonEl.style.display =\n",
              "        google.colab.kernel.accessAllowed ? 'block' : 'none';\n",
              "\n",
              "      async function convertToInteractive(key) {\n",
              "        const element = document.querySelector('#df-3e79c62d-fc69-402d-8035-52cbbf438eb4');\n",
              "        const dataTable =\n",
              "          await google.colab.kernel.invokeFunction('convertToInteractive',\n",
              "                                                    [key], {});\n",
              "        if (!dataTable) return;\n",
              "\n",
              "        const docLinkHtml = 'Like what you see? Visit the ' +\n",
              "          '<a target=\"_blank\" href=https://colab.research.google.com/notebooks/data_table.ipynb>data table notebook</a>'\n",
              "          + ' to learn more about interactive tables.';\n",
              "        element.innerHTML = '';\n",
              "        dataTable['output_type'] = 'display_data';\n",
              "        await google.colab.output.renderOutput(dataTable, element);\n",
              "        const docLink = document.createElement('div');\n",
              "        docLink.innerHTML = docLinkHtml;\n",
              "        element.appendChild(docLink);\n",
              "      }\n",
              "    </script>\n",
              "  </div>\n",
              "\n",
              "\n",
              "<div id=\"df-d16a2c68-4308-488b-b9d5-7edf8cf10df7\">\n",
              "  <button class=\"colab-df-quickchart\" onclick=\"quickchart('df-d16a2c68-4308-488b-b9d5-7edf8cf10df7')\"\n",
              "            title=\"Suggest charts\"\n",
              "            style=\"display:none;\">\n",
              "\n",
              "<svg xmlns=\"http://www.w3.org/2000/svg\" height=\"24px\"viewBox=\"0 0 24 24\"\n",
              "     width=\"24px\">\n",
              "    <g>\n",
              "        <path d=\"M19 3H5c-1.1 0-2 .9-2 2v14c0 1.1.9 2 2 2h14c1.1 0 2-.9 2-2V5c0-1.1-.9-2-2-2zM9 17H7v-7h2v7zm4 0h-2V7h2v10zm4 0h-2v-4h2v4z\"/>\n",
              "    </g>\n",
              "</svg>\n",
              "  </button>\n",
              "\n",
              "<style>\n",
              "  .colab-df-quickchart {\n",
              "      --bg-color: #E8F0FE;\n",
              "      --fill-color: #1967D2;\n",
              "      --hover-bg-color: #E2EBFA;\n",
              "      --hover-fill-color: #174EA6;\n",
              "      --disabled-fill-color: #AAA;\n",
              "      --disabled-bg-color: #DDD;\n",
              "  }\n",
              "\n",
              "  [theme=dark] .colab-df-quickchart {\n",
              "      --bg-color: #3B4455;\n",
              "      --fill-color: #D2E3FC;\n",
              "      --hover-bg-color: #434B5C;\n",
              "      --hover-fill-color: #FFFFFF;\n",
              "      --disabled-bg-color: #3B4455;\n",
              "      --disabled-fill-color: #666;\n",
              "  }\n",
              "\n",
              "  .colab-df-quickchart {\n",
              "    background-color: var(--bg-color);\n",
              "    border: none;\n",
              "    border-radius: 50%;\n",
              "    cursor: pointer;\n",
              "    display: none;\n",
              "    fill: var(--fill-color);\n",
              "    height: 32px;\n",
              "    padding: 0;\n",
              "    width: 32px;\n",
              "  }\n",
              "\n",
              "  .colab-df-quickchart:hover {\n",
              "    background-color: var(--hover-bg-color);\n",
              "    box-shadow: 0 1px 2px rgba(60, 64, 67, 0.3), 0 1px 3px 1px rgba(60, 64, 67, 0.15);\n",
              "    fill: var(--button-hover-fill-color);\n",
              "  }\n",
              "\n",
              "  .colab-df-quickchart-complete:disabled,\n",
              "  .colab-df-quickchart-complete:disabled:hover {\n",
              "    background-color: var(--disabled-bg-color);\n",
              "    fill: var(--disabled-fill-color);\n",
              "    box-shadow: none;\n",
              "  }\n",
              "\n",
              "  .colab-df-spinner {\n",
              "    border: 2px solid var(--fill-color);\n",
              "    border-color: transparent;\n",
              "    border-bottom-color: var(--fill-color);\n",
              "    animation:\n",
              "      spin 1s steps(1) infinite;\n",
              "  }\n",
              "\n",
              "  @keyframes spin {\n",
              "    0% {\n",
              "      border-color: transparent;\n",
              "      border-bottom-color: var(--fill-color);\n",
              "      border-left-color: var(--fill-color);\n",
              "    }\n",
              "    20% {\n",
              "      border-color: transparent;\n",
              "      border-left-color: var(--fill-color);\n",
              "      border-top-color: var(--fill-color);\n",
              "    }\n",
              "    30% {\n",
              "      border-color: transparent;\n",
              "      border-left-color: var(--fill-color);\n",
              "      border-top-color: var(--fill-color);\n",
              "      border-right-color: var(--fill-color);\n",
              "    }\n",
              "    40% {\n",
              "      border-color: transparent;\n",
              "      border-right-color: var(--fill-color);\n",
              "      border-top-color: var(--fill-color);\n",
              "    }\n",
              "    60% {\n",
              "      border-color: transparent;\n",
              "      border-right-color: var(--fill-color);\n",
              "    }\n",
              "    80% {\n",
              "      border-color: transparent;\n",
              "      border-right-color: var(--fill-color);\n",
              "      border-bottom-color: var(--fill-color);\n",
              "    }\n",
              "    90% {\n",
              "      border-color: transparent;\n",
              "      border-bottom-color: var(--fill-color);\n",
              "    }\n",
              "  }\n",
              "</style>\n",
              "\n",
              "  <script>\n",
              "    async function quickchart(key) {\n",
              "      const quickchartButtonEl =\n",
              "        document.querySelector('#' + key + ' button');\n",
              "      quickchartButtonEl.disabled = true;  // To prevent multiple clicks.\n",
              "      quickchartButtonEl.classList.add('colab-df-spinner');\n",
              "      try {\n",
              "        const charts = await google.colab.kernel.invokeFunction(\n",
              "            'suggestCharts', [key], {});\n",
              "      } catch (error) {\n",
              "        console.error('Error during call to suggestCharts:', error);\n",
              "      }\n",
              "      quickchartButtonEl.classList.remove('colab-df-spinner');\n",
              "      quickchartButtonEl.classList.add('colab-df-quickchart-complete');\n",
              "    }\n",
              "    (() => {\n",
              "      let quickchartButtonEl =\n",
              "        document.querySelector('#df-d16a2c68-4308-488b-b9d5-7edf8cf10df7 button');\n",
              "      quickchartButtonEl.style.display =\n",
              "        google.colab.kernel.accessAllowed ? 'block' : 'none';\n",
              "    })();\n",
              "  </script>\n",
              "</div>\n",
              "    </div>\n",
              "  </div>\n"
            ]
          },
          "metadata": {},
          "execution_count": 135
        }
      ]
    },
    {
      "cell_type": "code",
      "source": [
        "df.drop(df[df[\"converted\"].isna()].index, inplace=True)"
      ],
      "metadata": {
        "id": "YKOR5LjjN4kl"
      },
      "execution_count": null,
      "outputs": []
    },
    {
      "cell_type": "code",
      "source": [
        "df.isna().sum()"
      ],
      "metadata": {
        "colab": {
          "base_uri": "https://localhost:8080/"
        },
        "id": "3pGsLQ1xPG9A",
        "outputId": "71486848-4ef0-489e-f97a-a8fff8d53e0e"
      },
      "execution_count": null,
      "outputs": [
        {
          "output_type": "execute_result",
          "data": {
            "text/plain": [
              "user_id               0\n",
              "date_served           1\n",
              "marketing_channel     0\n",
              "variant               0\n",
              "language_displayed    0\n",
              "converted             0\n",
              "dtype: int64"
            ]
          },
          "metadata": {},
          "execution_count": 137
        }
      ]
    },
    {
      "cell_type": "code",
      "source": [
        "df[\"date_served\"].mode().values[0]"
      ],
      "metadata": {
        "colab": {
          "base_uri": "https://localhost:8080/",
          "height": 35
        },
        "id": "ub1MuWvMPLX3",
        "outputId": "9c7aac33-2091-409e-f63e-bb6d78d13e35"
      },
      "execution_count": null,
      "outputs": [
        {
          "output_type": "execute_result",
          "data": {
            "text/plain": [
              "'1/15/18'"
            ],
            "application/vnd.google.colaboratory.intrinsic+json": {
              "type": "string"
            }
          },
          "metadata": {},
          "execution_count": 146
        }
      ]
    },
    {
      "cell_type": "code",
      "source": [
        "df.loc[df[\"date_served\"].isna(), [\"date_served\"]] = df[\"date_served\"].mode().values[0]"
      ],
      "metadata": {
        "id": "SFrBrBNDPTGR"
      },
      "execution_count": null,
      "outputs": []
    },
    {
      "cell_type": "code",
      "source": [
        "df.isna().sum()"
      ],
      "metadata": {
        "colab": {
          "base_uri": "https://localhost:8080/"
        },
        "id": "QW5Gi262PbUm",
        "outputId": "d8466248-4d85-48b5-922c-082ea3fde89f"
      },
      "execution_count": null,
      "outputs": [
        {
          "output_type": "execute_result",
          "data": {
            "text/plain": [
              "user_id               0\n",
              "date_served           0\n",
              "marketing_channel     0\n",
              "variant               0\n",
              "language_displayed    0\n",
              "converted             0\n",
              "dtype: int64"
            ]
          },
          "metadata": {},
          "execution_count": 148
        }
      ]
    },
    {
      "cell_type": "markdown",
      "source": [
        "## 6 Save and load new dataset"
      ],
      "metadata": {
        "id": "SFUsFD8tQEZX"
      }
    },
    {
      "cell_type": "code",
      "source": [
        "df.to_csv(path_to_work_dir + \"df.csv\", index=None)"
      ],
      "metadata": {
        "id": "AJ_yISdgPl7q"
      },
      "execution_count": null,
      "outputs": []
    },
    {
      "cell_type": "code",
      "source": [
        "df = pd.read_csv(path_to_work_dir + \"df.csv\")\n",
        "df.head(5)"
      ],
      "metadata": {
        "colab": {
          "base_uri": "https://localhost:8080/",
          "height": 206
        },
        "id": "TB36es_kPtAF",
        "outputId": "e6952dae-388d-4ceb-a51b-805516e76141"
      },
      "execution_count": null,
      "outputs": [
        {
          "output_type": "execute_result",
          "data": {
            "text/plain": [
              "  user_id date_served marketing_channel          variant language_displayed  \\\n",
              "0   a1000      1/1/18         House Ads  personalization            English   \n",
              "1   a1001      1/1/18         House Ads  personalization            English   \n",
              "2   a1002      1/1/18         House Ads  personalization            English   \n",
              "3   a1003      1/1/18         House Ads  personalization            English   \n",
              "4   a1004      1/1/18         House Ads  personalization            English   \n",
              "\n",
              "   converted  \n",
              "0       True  \n",
              "1       True  \n",
              "2       True  \n",
              "3       True  \n",
              "4       True  "
            ],
            "text/html": [
              "\n",
              "  <div id=\"df-29352363-b505-47d5-8213-c23f725f67b5\" class=\"colab-df-container\">\n",
              "    <div>\n",
              "<style scoped>\n",
              "    .dataframe tbody tr th:only-of-type {\n",
              "        vertical-align: middle;\n",
              "    }\n",
              "\n",
              "    .dataframe tbody tr th {\n",
              "        vertical-align: top;\n",
              "    }\n",
              "\n",
              "    .dataframe thead th {\n",
              "        text-align: right;\n",
              "    }\n",
              "</style>\n",
              "<table border=\"1\" class=\"dataframe\">\n",
              "  <thead>\n",
              "    <tr style=\"text-align: right;\">\n",
              "      <th></th>\n",
              "      <th>user_id</th>\n",
              "      <th>date_served</th>\n",
              "      <th>marketing_channel</th>\n",
              "      <th>variant</th>\n",
              "      <th>language_displayed</th>\n",
              "      <th>converted</th>\n",
              "    </tr>\n",
              "  </thead>\n",
              "  <tbody>\n",
              "    <tr>\n",
              "      <th>0</th>\n",
              "      <td>a1000</td>\n",
              "      <td>1/1/18</td>\n",
              "      <td>House Ads</td>\n",
              "      <td>personalization</td>\n",
              "      <td>English</td>\n",
              "      <td>True</td>\n",
              "    </tr>\n",
              "    <tr>\n",
              "      <th>1</th>\n",
              "      <td>a1001</td>\n",
              "      <td>1/1/18</td>\n",
              "      <td>House Ads</td>\n",
              "      <td>personalization</td>\n",
              "      <td>English</td>\n",
              "      <td>True</td>\n",
              "    </tr>\n",
              "    <tr>\n",
              "      <th>2</th>\n",
              "      <td>a1002</td>\n",
              "      <td>1/1/18</td>\n",
              "      <td>House Ads</td>\n",
              "      <td>personalization</td>\n",
              "      <td>English</td>\n",
              "      <td>True</td>\n",
              "    </tr>\n",
              "    <tr>\n",
              "      <th>3</th>\n",
              "      <td>a1003</td>\n",
              "      <td>1/1/18</td>\n",
              "      <td>House Ads</td>\n",
              "      <td>personalization</td>\n",
              "      <td>English</td>\n",
              "      <td>True</td>\n",
              "    </tr>\n",
              "    <tr>\n",
              "      <th>4</th>\n",
              "      <td>a1004</td>\n",
              "      <td>1/1/18</td>\n",
              "      <td>House Ads</td>\n",
              "      <td>personalization</td>\n",
              "      <td>English</td>\n",
              "      <td>True</td>\n",
              "    </tr>\n",
              "  </tbody>\n",
              "</table>\n",
              "</div>\n",
              "    <div class=\"colab-df-buttons\">\n",
              "\n",
              "  <div class=\"colab-df-container\">\n",
              "    <button class=\"colab-df-convert\" onclick=\"convertToInteractive('df-29352363-b505-47d5-8213-c23f725f67b5')\"\n",
              "            title=\"Convert this dataframe to an interactive table.\"\n",
              "            style=\"display:none;\">\n",
              "\n",
              "  <svg xmlns=\"http://www.w3.org/2000/svg\" height=\"24px\" viewBox=\"0 -960 960 960\">\n",
              "    <path d=\"M120-120v-720h720v720H120Zm60-500h600v-160H180v160Zm220 220h160v-160H400v160Zm0 220h160v-160H400v160ZM180-400h160v-160H180v160Zm440 0h160v-160H620v160ZM180-180h160v-160H180v160Zm440 0h160v-160H620v160Z\"/>\n",
              "  </svg>\n",
              "    </button>\n",
              "\n",
              "  <style>\n",
              "    .colab-df-container {\n",
              "      display:flex;\n",
              "      gap: 12px;\n",
              "    }\n",
              "\n",
              "    .colab-df-convert {\n",
              "      background-color: #E8F0FE;\n",
              "      border: none;\n",
              "      border-radius: 50%;\n",
              "      cursor: pointer;\n",
              "      display: none;\n",
              "      fill: #1967D2;\n",
              "      height: 32px;\n",
              "      padding: 0 0 0 0;\n",
              "      width: 32px;\n",
              "    }\n",
              "\n",
              "    .colab-df-convert:hover {\n",
              "      background-color: #E2EBFA;\n",
              "      box-shadow: 0px 1px 2px rgba(60, 64, 67, 0.3), 0px 1px 3px 1px rgba(60, 64, 67, 0.15);\n",
              "      fill: #174EA6;\n",
              "    }\n",
              "\n",
              "    .colab-df-buttons div {\n",
              "      margin-bottom: 4px;\n",
              "    }\n",
              "\n",
              "    [theme=dark] .colab-df-convert {\n",
              "      background-color: #3B4455;\n",
              "      fill: #D2E3FC;\n",
              "    }\n",
              "\n",
              "    [theme=dark] .colab-df-convert:hover {\n",
              "      background-color: #434B5C;\n",
              "      box-shadow: 0px 1px 3px 1px rgba(0, 0, 0, 0.15);\n",
              "      filter: drop-shadow(0px 1px 2px rgba(0, 0, 0, 0.3));\n",
              "      fill: #FFFFFF;\n",
              "    }\n",
              "  </style>\n",
              "\n",
              "    <script>\n",
              "      const buttonEl =\n",
              "        document.querySelector('#df-29352363-b505-47d5-8213-c23f725f67b5 button.colab-df-convert');\n",
              "      buttonEl.style.display =\n",
              "        google.colab.kernel.accessAllowed ? 'block' : 'none';\n",
              "\n",
              "      async function convertToInteractive(key) {\n",
              "        const element = document.querySelector('#df-29352363-b505-47d5-8213-c23f725f67b5');\n",
              "        const dataTable =\n",
              "          await google.colab.kernel.invokeFunction('convertToInteractive',\n",
              "                                                    [key], {});\n",
              "        if (!dataTable) return;\n",
              "\n",
              "        const docLinkHtml = 'Like what you see? Visit the ' +\n",
              "          '<a target=\"_blank\" href=https://colab.research.google.com/notebooks/data_table.ipynb>data table notebook</a>'\n",
              "          + ' to learn more about interactive tables.';\n",
              "        element.innerHTML = '';\n",
              "        dataTable['output_type'] = 'display_data';\n",
              "        await google.colab.output.renderOutput(dataTable, element);\n",
              "        const docLink = document.createElement('div');\n",
              "        docLink.innerHTML = docLinkHtml;\n",
              "        element.appendChild(docLink);\n",
              "      }\n",
              "    </script>\n",
              "  </div>\n",
              "\n",
              "\n",
              "<div id=\"df-8902f733-ea09-4b7e-8bc0-ecf86ac45478\">\n",
              "  <button class=\"colab-df-quickchart\" onclick=\"quickchart('df-8902f733-ea09-4b7e-8bc0-ecf86ac45478')\"\n",
              "            title=\"Suggest charts\"\n",
              "            style=\"display:none;\">\n",
              "\n",
              "<svg xmlns=\"http://www.w3.org/2000/svg\" height=\"24px\"viewBox=\"0 0 24 24\"\n",
              "     width=\"24px\">\n",
              "    <g>\n",
              "        <path d=\"M19 3H5c-1.1 0-2 .9-2 2v14c0 1.1.9 2 2 2h14c1.1 0 2-.9 2-2V5c0-1.1-.9-2-2-2zM9 17H7v-7h2v7zm4 0h-2V7h2v10zm4 0h-2v-4h2v4z\"/>\n",
              "    </g>\n",
              "</svg>\n",
              "  </button>\n",
              "\n",
              "<style>\n",
              "  .colab-df-quickchart {\n",
              "      --bg-color: #E8F0FE;\n",
              "      --fill-color: #1967D2;\n",
              "      --hover-bg-color: #E2EBFA;\n",
              "      --hover-fill-color: #174EA6;\n",
              "      --disabled-fill-color: #AAA;\n",
              "      --disabled-bg-color: #DDD;\n",
              "  }\n",
              "\n",
              "  [theme=dark] .colab-df-quickchart {\n",
              "      --bg-color: #3B4455;\n",
              "      --fill-color: #D2E3FC;\n",
              "      --hover-bg-color: #434B5C;\n",
              "      --hover-fill-color: #FFFFFF;\n",
              "      --disabled-bg-color: #3B4455;\n",
              "      --disabled-fill-color: #666;\n",
              "  }\n",
              "\n",
              "  .colab-df-quickchart {\n",
              "    background-color: var(--bg-color);\n",
              "    border: none;\n",
              "    border-radius: 50%;\n",
              "    cursor: pointer;\n",
              "    display: none;\n",
              "    fill: var(--fill-color);\n",
              "    height: 32px;\n",
              "    padding: 0;\n",
              "    width: 32px;\n",
              "  }\n",
              "\n",
              "  .colab-df-quickchart:hover {\n",
              "    background-color: var(--hover-bg-color);\n",
              "    box-shadow: 0 1px 2px rgba(60, 64, 67, 0.3), 0 1px 3px 1px rgba(60, 64, 67, 0.15);\n",
              "    fill: var(--button-hover-fill-color);\n",
              "  }\n",
              "\n",
              "  .colab-df-quickchart-complete:disabled,\n",
              "  .colab-df-quickchart-complete:disabled:hover {\n",
              "    background-color: var(--disabled-bg-color);\n",
              "    fill: var(--disabled-fill-color);\n",
              "    box-shadow: none;\n",
              "  }\n",
              "\n",
              "  .colab-df-spinner {\n",
              "    border: 2px solid var(--fill-color);\n",
              "    border-color: transparent;\n",
              "    border-bottom-color: var(--fill-color);\n",
              "    animation:\n",
              "      spin 1s steps(1) infinite;\n",
              "  }\n",
              "\n",
              "  @keyframes spin {\n",
              "    0% {\n",
              "      border-color: transparent;\n",
              "      border-bottom-color: var(--fill-color);\n",
              "      border-left-color: var(--fill-color);\n",
              "    }\n",
              "    20% {\n",
              "      border-color: transparent;\n",
              "      border-left-color: var(--fill-color);\n",
              "      border-top-color: var(--fill-color);\n",
              "    }\n",
              "    30% {\n",
              "      border-color: transparent;\n",
              "      border-left-color: var(--fill-color);\n",
              "      border-top-color: var(--fill-color);\n",
              "      border-right-color: var(--fill-color);\n",
              "    }\n",
              "    40% {\n",
              "      border-color: transparent;\n",
              "      border-right-color: var(--fill-color);\n",
              "      border-top-color: var(--fill-color);\n",
              "    }\n",
              "    60% {\n",
              "      border-color: transparent;\n",
              "      border-right-color: var(--fill-color);\n",
              "    }\n",
              "    80% {\n",
              "      border-color: transparent;\n",
              "      border-right-color: var(--fill-color);\n",
              "      border-bottom-color: var(--fill-color);\n",
              "    }\n",
              "    90% {\n",
              "      border-color: transparent;\n",
              "      border-bottom-color: var(--fill-color);\n",
              "    }\n",
              "  }\n",
              "</style>\n",
              "\n",
              "  <script>\n",
              "    async function quickchart(key) {\n",
              "      const quickchartButtonEl =\n",
              "        document.querySelector('#' + key + ' button');\n",
              "      quickchartButtonEl.disabled = true;  // To prevent multiple clicks.\n",
              "      quickchartButtonEl.classList.add('colab-df-spinner');\n",
              "      try {\n",
              "        const charts = await google.colab.kernel.invokeFunction(\n",
              "            'suggestCharts', [key], {});\n",
              "      } catch (error) {\n",
              "        console.error('Error during call to suggestCharts:', error);\n",
              "      }\n",
              "      quickchartButtonEl.classList.remove('colab-df-spinner');\n",
              "      quickchartButtonEl.classList.add('colab-df-quickchart-complete');\n",
              "    }\n",
              "    (() => {\n",
              "      let quickchartButtonEl =\n",
              "        document.querySelector('#df-8902f733-ea09-4b7e-8bc0-ecf86ac45478 button');\n",
              "      quickchartButtonEl.style.display =\n",
              "        google.colab.kernel.accessAllowed ? 'block' : 'none';\n",
              "    })();\n",
              "  </script>\n",
              "</div>\n",
              "    </div>\n",
              "  </div>\n"
            ]
          },
          "metadata": {},
          "execution_count": 6
        }
      ]
    },
    {
      "cell_type": "code",
      "source": [
        "df['variant'].value_counts()"
      ],
      "metadata": {
        "colab": {
          "base_uri": "https://localhost:8080/"
        },
        "id": "c-cKcFtmP1Dx",
        "outputId": "50ff8c32-81bf-423a-9016-e5a1b343f134"
      },
      "execution_count": null,
      "outputs": [
        {
          "output_type": "execute_result",
          "data": {
            "text/plain": [
              "control            5076\n",
              "personalization    4946\n",
              "Name: variant, dtype: int64"
            ]
          },
          "metadata": {},
          "execution_count": 7
        }
      ]
    },
    {
      "cell_type": "code",
      "source": [
        "df['converted'].value_counts()"
      ],
      "metadata": {
        "colab": {
          "base_uri": "https://localhost:8080/"
        },
        "id": "zKmgQ6fVP7aq",
        "outputId": "97334046-9833-4cfc-a69c-4be9189c0961"
      },
      "execution_count": null,
      "outputs": [
        {
          "output_type": "execute_result",
          "data": {
            "text/plain": [
              "False    8946\n",
              "True     1076\n",
              "Name: converted, dtype: int64"
            ]
          },
          "metadata": {},
          "execution_count": 8
        }
      ]
    },
    {
      "cell_type": "markdown",
      "source": [
        "## 7 Encoding of features"
      ],
      "metadata": {
        "id": "wCtSxrBeQO7N"
      }
    },
    {
      "cell_type": "code",
      "source": [
        "df.replace({\"variant\" : {\"control\" : 0, \"personalization\": 1}}, inplace=True)\n",
        "df.replace({\"converted\" : {False : 0, True: 1}}, inplace=True)"
      ],
      "metadata": {
        "id": "y8LNTxRRImma"
      },
      "execution_count": null,
      "outputs": []
    },
    {
      "cell_type": "code",
      "source": [
        "fig, axx = plt.subplots(1, 2, figsize=(8,5))\n",
        "sns.barplot(x=df['variant'].value_counts().index, y=df['variant'].value_counts().values, ax=axx[0])\n",
        "sns.barplot(x=df['converted'].value_counts().index, y=df['converted'].value_counts().values, ax=axx[1])\n",
        "axx[0].set_xlabel(\"variant\")\n",
        "axx[1].set_xlabel(\"converted\")"
      ],
      "metadata": {
        "colab": {
          "base_uri": "https://localhost:8080/",
          "height": 483
        },
        "id": "BuHclJuvRqCH",
        "outputId": "9db62690-5ca4-4345-c0ad-3b9881a3eef7"
      },
      "execution_count": null,
      "outputs": [
        {
          "output_type": "execute_result",
          "data": {
            "text/plain": [
              "Text(0.5, 0, 'converted')"
            ]
          },
          "metadata": {},
          "execution_count": 18
        },
        {
          "output_type": "display_data",
          "data": {
            "text/plain": [
              "<Figure size 800x500 with 2 Axes>"
            ],
            "image/png": "[encoded data removed]"
          },
          "metadata": {}
        }
      ]
    },
    {
      "cell_type": "code",
      "source": [
        "df.loc[df[\"converted\"] == 1][\"variant\"].value_counts()"
      ],
      "metadata": {
        "id": "McWqO-_Ke8iM",
        "colab": {
          "base_uri": "https://localhost:8080/"
        },
        "outputId": "9ef0bb22-f762-4031-c1b3-d8fd256328cf"
      },
      "execution_count": null,
      "outputs": [
        {
          "output_type": "execute_result",
          "data": {
            "text/plain": [
              "1    705\n",
              "0    371\n",
              "Name: variant, dtype: int64"
            ]
          },
          "metadata": {},
          "execution_count": 20
        }
      ]
    },
    {
      "cell_type": "code",
      "source": [
        "df.loc[df[\"converted\"] == 1][\"variant\"].hist(bins=2, rwidth=0.95)"
      ],
      "metadata": {
        "colab": {
          "base_uri": "https://localhost:8080/",
          "height": 448
        },
        "id": "4ybu7VF8SRIX",
        "outputId": "9742a3ce-c24b-4367-990f-90884ea66827"
      },
      "execution_count": null,
      "outputs": [
        {
          "output_type": "execute_result",
          "data": {
            "text/plain": [
              "<Axes: >"
            ]
          },
          "metadata": {},
          "execution_count": 35
        },
        {
          "output_type": "display_data",
          "data": {
            "text/plain": [
              "<Figure size 640x480 with 1 Axes>"
            ],
            "image/png": "[encoded data removed]"
          },
          "metadata": {}
        }
      ]
    },
    {
      "cell_type": "code",
      "source": [
        "df.loc[df[\"converted\"] == 0][\"variant\"].value_counts()"
      ],
      "metadata": {
        "id": "dSNzR_W1e8dB",
        "colab": {
          "base_uri": "https://localhost:8080/"
        },
        "outputId": "e70dd97a-5b2e-462d-ae52-d111343d1c9b"
      },
      "execution_count": null,
      "outputs": [
        {
          "output_type": "execute_result",
          "data": {
            "text/plain": [
              "0    4705\n",
              "1    4241\n",
              "Name: variant, dtype: int64"
            ]
          },
          "metadata": {},
          "execution_count": 21
        }
      ]
    },
    {
      "cell_type": "code",
      "source": [
        "df.loc[df[\"converted\"] == 0][\"variant\"].hist(bins=2, rwidth=0.95)"
      ],
      "metadata": {
        "id": "6VoMxUc5e8Po",
        "colab": {
          "base_uri": "https://localhost:8080/",
          "height": 448
        },
        "outputId": "d8330a9c-09fd-4f1e-9736-a3c2571e11bc"
      },
      "execution_count": null,
      "outputs": [
        {
          "output_type": "execute_result",
          "data": {
            "text/plain": [
              "<Axes: >"
            ]
          },
          "metadata": {},
          "execution_count": 36
        },
        {
          "output_type": "display_data",
          "data": {
            "text/plain": [
              "<Figure size 640x480 with 1 Axes>"
            ],
            "image/png": "[encoded data removed]"
          },
          "metadata": {}
        }
      ]
    },
    {
      "cell_type": "markdown",
      "source": [
        "# III A/B testing"
      ],
      "metadata": {
        "id": "IOjxGjAsUfK5"
      }
    },
    {
      "cell_type": "markdown",
      "source": [
        "## 8 Making calculations"
      ],
      "metadata": {
        "id": "gAfrDF7JTPYp"
      }
    },
    {
      "cell_type": "markdown",
      "metadata": {
        "id": "_CoUN_2bS229"
      },
      "source": [
        "<img src='https://drive.google.com/uc?export=view&id=1QVd787FRV0l39FBFNDoj1HynK14_sd1U' width=600>"
      ]
    },
    {
      "cell_type": "markdown",
      "metadata": {
        "id": "EKdWgLeIS22_"
      },
      "source": [
        "нулевая гипотеза: $H_0 : p_1 = p_2$<br>\n",
        "альтернативная гипотеза: $H_1 : p_1 \\neq p_2$"
      ]
    },
    {
      "cell_type": "markdown",
      "metadata": {
        "id": "37vAK19kS23A"
      },
      "source": [
        "\n",
        "$$Z(X_1^{n_1}, X_2^{n_2}) = \\frac{\\hat{p}_1 - \\hat{p}_2}{\\sqrt{P(1-P)(\\frac{1}{n_1} + \\frac{1}{n_2})}}, P = \\frac{\\hat{p}_1n_1 + \\hat{p}_2n_2}{n_1+n_2}$$"
      ]
    },
    {
      "cell_type": "code",
      "source": [
        "grouped = df.pivot_table(values='converted', index='variant', aggfunc=['sum', 'count'])\n",
        "grouped"
      ],
      "metadata": {
        "colab": {
          "base_uri": "https://localhost:8080/",
          "height": 175
        },
        "id": "L0icnMhhVSTu",
        "outputId": "2dc23713-849f-4649-c426-8be84eb04a78"
      },
      "execution_count": null,
      "outputs": [
        {
          "output_type": "execute_result",
          "data": {
            "text/plain": [
              "              sum     count\n",
              "        converted converted\n",
              "variant                    \n",
              "0             371      5076\n",
              "1             705      4946"
            ],
            "text/html": [
              "\n",
              "  <div id=\"df-6edd14e8-0755-4cd8-903a-a6c66b4e70a9\" class=\"colab-df-container\">\n",
              "    <div>\n",
              "<style scoped>\n",
              "    .dataframe tbody tr th:only-of-type {\n",
              "        vertical-align: middle;\n",
              "    }\n",
              "\n",
              "    .dataframe tbody tr th {\n",
              "        vertical-align: top;\n",
              "    }\n",
              "\n",
              "    .dataframe thead tr th {\n",
              "        text-align: left;\n",
              "    }\n",
              "\n",
              "    .dataframe thead tr:last-of-type th {\n",
              "        text-align: right;\n",
              "    }\n",
              "</style>\n",
              "<table border=\"1\" class=\"dataframe\">\n",
              "  <thead>\n",
              "    <tr>\n",
              "      <th></th>\n",
              "      <th>sum</th>\n",
              "      <th>count</th>\n",
              "    </tr>\n",
              "    <tr>\n",
              "      <th></th>\n",
              "      <th>converted</th>\n",
              "      <th>converted</th>\n",
              "    </tr>\n",
              "    <tr>\n",
              "      <th>variant</th>\n",
              "      <th></th>\n",
              "      <th></th>\n",
              "    </tr>\n",
              "  </thead>\n",
              "  <tbody>\n",
              "    <tr>\n",
              "      <th>0</th>\n",
              "      <td>371</td>\n",
              "      <td>5076</td>\n",
              "    </tr>\n",
              "    <tr>\n",
              "      <th>1</th>\n",
              "      <td>705</td>\n",
              "      <td>4946</td>\n",
              "    </tr>\n",
              "  </tbody>\n",
              "</table>\n",
              "</div>\n",
              "    <div class=\"colab-df-buttons\">\n",
              "\n",
              "  <div class=\"colab-df-container\">\n",
              "    <button class=\"colab-df-convert\" onclick=\"convertToInteractive('df-6edd14e8-0755-4cd8-903a-a6c66b4e70a9')\"\n",
              "            title=\"Convert this dataframe to an interactive table.\"\n",
              "            style=\"display:none;\">\n",
              "\n",
              "  <svg xmlns=\"http://www.w3.org/2000/svg\" height=\"24px\" viewBox=\"0 -960 960 960\">\n",
              "    <path d=\"M120-120v-720h720v720H120Zm60-500h600v-160H180v160Zm220 220h160v-160H400v160Zm0 220h160v-160H400v160ZM180-400h160v-160H180v160Zm440 0h160v-160H620v160ZM180-180h160v-160H180v160Zm440 0h160v-160H620v160Z\"/>\n",
              "  </svg>\n",
              "    </button>\n",
              "\n",
              "  <style>\n",
              "    .colab-df-container {\n",
              "      display:flex;\n",
              "      gap: 12px;\n",
              "    }\n",
              "\n",
              "    .colab-df-convert {\n",
              "      background-color: #E8F0FE;\n",
              "      border: none;\n",
              "      border-radius: 50%;\n",
              "      cursor: pointer;\n",
              "      display: none;\n",
              "      fill: #1967D2;\n",
              "      height: 32px;\n",
              "      padding: 0 0 0 0;\n",
              "      width: 32px;\n",
              "    }\n",
              "\n",
              "    .colab-df-convert:hover {\n",
              "      background-color: #E2EBFA;\n",
              "      box-shadow: 0px 1px 2px rgba(60, 64, 67, 0.3), 0px 1px 3px 1px rgba(60, 64, 67, 0.15);\n",
              "      fill: #174EA6;\n",
              "    }\n",
              "\n",
              "    .colab-df-buttons div {\n",
              "      margin-bottom: 4px;\n",
              "    }\n",
              "\n",
              "    [theme=dark] .colab-df-convert {\n",
              "      background-color: #3B4455;\n",
              "      fill: #D2E3FC;\n",
              "    }\n",
              "\n",
              "    [theme=dark] .colab-df-convert:hover {\n",
              "      background-color: #434B5C;\n",
              "      box-shadow: 0px 1px 3px 1px rgba(0, 0, 0, 0.15);\n",
              "      filter: drop-shadow(0px 1px 2px rgba(0, 0, 0, 0.3));\n",
              "      fill: #FFFFFF;\n",
              "    }\n",
              "  </style>\n",
              "\n",
              "    <script>\n",
              "      const buttonEl =\n",
              "        document.querySelector('#df-6edd14e8-0755-4cd8-903a-a6c66b4e70a9 button.colab-df-convert');\n",
              "      buttonEl.style.display =\n",
              "        google.colab.kernel.accessAllowed ? 'block' : 'none';\n",
              "\n",
              "      async function convertToInteractive(key) {\n",
              "        const element = document.querySelector('#df-6edd14e8-0755-4cd8-903a-a6c66b4e70a9');\n",
              "        const dataTable =\n",
              "          await google.colab.kernel.invokeFunction('convertToInteractive',\n",
              "                                                    [key], {});\n",
              "        if (!dataTable) return;\n",
              "\n",
              "        const docLinkHtml = 'Like what you see? Visit the ' +\n",
              "          '<a target=\"_blank\" href=https://colab.research.google.com/notebooks/data_table.ipynb>data table notebook</a>'\n",
              "          + ' to learn more about interactive tables.';\n",
              "        element.innerHTML = '';\n",
              "        dataTable['output_type'] = 'display_data';\n",
              "        await google.colab.output.renderOutput(dataTable, element);\n",
              "        const docLink = document.createElement('div');\n",
              "        docLink.innerHTML = docLinkHtml;\n",
              "        element.appendChild(docLink);\n",
              "      }\n",
              "    </script>\n",
              "  </div>\n",
              "\n",
              "\n",
              "<div id=\"df-0ba85748-09b1-45e1-9fa6-2beb8a11f5bc\">\n",
              "  <button class=\"colab-df-quickchart\" onclick=\"quickchart('df-0ba85748-09b1-45e1-9fa6-2beb8a11f5bc')\"\n",
              "            title=\"Suggest charts\"\n",
              "            style=\"display:none;\">\n",
              "\n",
              "<svg xmlns=\"http://www.w3.org/2000/svg\" height=\"24px\"viewBox=\"0 0 24 24\"\n",
              "     width=\"24px\">\n",
              "    <g>\n",
              "        <path d=\"M19 3H5c-1.1 0-2 .9-2 2v14c0 1.1.9 2 2 2h14c1.1 0 2-.9 2-2V5c0-1.1-.9-2-2-2zM9 17H7v-7h2v7zm4 0h-2V7h2v10zm4 0h-2v-4h2v4z\"/>\n",
              "    </g>\n",
              "</svg>\n",
              "  </button>\n",
              "\n",
              "<style>\n",
              "  .colab-df-quickchart {\n",
              "      --bg-color: #E8F0FE;\n",
              "      --fill-color: #1967D2;\n",
              "      --hover-bg-color: #E2EBFA;\n",
              "      --hover-fill-color: #174EA6;\n",
              "      --disabled-fill-color: #AAA;\n",
              "      --disabled-bg-color: #DDD;\n",
              "  }\n",
              "\n",
              "  [theme=dark] .colab-df-quickchart {\n",
              "      --bg-color: #3B4455;\n",
              "      --fill-color: #D2E3FC;\n",
              "      --hover-bg-color: #434B5C;\n",
              "      --hover-fill-color: #FFFFFF;\n",
              "      --disabled-bg-color: #3B4455;\n",
              "      --disabled-fill-color: #666;\n",
              "  }\n",
              "\n",
              "  .colab-df-quickchart {\n",
              "    background-color: var(--bg-color);\n",
              "    border: none;\n",
              "    border-radius: 50%;\n",
              "    cursor: pointer;\n",
              "    display: none;\n",
              "    fill: var(--fill-color);\n",
              "    height: 32px;\n",
              "    padding: 0;\n",
              "    width: 32px;\n",
              "  }\n",
              "\n",
              "  .colab-df-quickchart:hover {\n",
              "    background-color: var(--hover-bg-color);\n",
              "    box-shadow: 0 1px 2px rgba(60, 64, 67, 0.3), 0 1px 3px 1px rgba(60, 64, 67, 0.15);\n",
              "    fill: var(--button-hover-fill-color);\n",
              "  }\n",
              "\n",
              "  .colab-df-quickchart-complete:disabled,\n",
              "  .colab-df-quickchart-complete:disabled:hover {\n",
              "    background-color: var(--disabled-bg-color);\n",
              "    fill: var(--disabled-fill-color);\n",
              "    box-shadow: none;\n",
              "  }\n",
              "\n",
              "  .colab-df-spinner {\n",
              "    border: 2px solid var(--fill-color);\n",
              "    border-color: transparent;\n",
              "    border-bottom-color: var(--fill-color);\n",
              "    animation:\n",
              "      spin 1s steps(1) infinite;\n",
              "  }\n",
              "\n",
              "  @keyframes spin {\n",
              "    0% {\n",
              "      border-color: transparent;\n",
              "      border-bottom-color: var(--fill-color);\n",
              "      border-left-color: var(--fill-color);\n",
              "    }\n",
              "    20% {\n",
              "      border-color: transparent;\n",
              "      border-left-color: var(--fill-color);\n",
              "      border-top-color: var(--fill-color);\n",
              "    }\n",
              "    30% {\n",
              "      border-color: transparent;\n",
              "      border-left-color: var(--fill-color);\n",
              "      border-top-color: var(--fill-color);\n",
              "      border-right-color: var(--fill-color);\n",
              "    }\n",
              "    40% {\n",
              "      border-color: transparent;\n",
              "      border-right-color: var(--fill-color);\n",
              "      border-top-color: var(--fill-color);\n",
              "    }\n",
              "    60% {\n",
              "      border-color: transparent;\n",
              "      border-right-color: var(--fill-color);\n",
              "    }\n",
              "    80% {\n",
              "      border-color: transparent;\n",
              "      border-right-color: var(--fill-color);\n",
              "      border-bottom-color: var(--fill-color);\n",
              "    }\n",
              "    90% {\n",
              "      border-color: transparent;\n",
              "      border-bottom-color: var(--fill-color);\n",
              "    }\n",
              "  }\n",
              "</style>\n",
              "\n",
              "  <script>\n",
              "    async function quickchart(key) {\n",
              "      const quickchartButtonEl =\n",
              "        document.querySelector('#' + key + ' button');\n",
              "      quickchartButtonEl.disabled = true;  // To prevent multiple clicks.\n",
              "      quickchartButtonEl.classList.add('colab-df-spinner');\n",
              "      try {\n",
              "        const charts = await google.colab.kernel.invokeFunction(\n",
              "            'suggestCharts', [key], {});\n",
              "      } catch (error) {\n",
              "        console.error('Error during call to suggestCharts:', error);\n",
              "      }\n",
              "      quickchartButtonEl.classList.remove('colab-df-spinner');\n",
              "      quickchartButtonEl.classList.add('colab-df-quickchart-complete');\n",
              "    }\n",
              "    (() => {\n",
              "      let quickchartButtonEl =\n",
              "        document.querySelector('#df-0ba85748-09b1-45e1-9fa6-2beb8a11f5bc button');\n",
              "      quickchartButtonEl.style.display =\n",
              "        google.colab.kernel.accessAllowed ? 'block' : 'none';\n",
              "    })();\n",
              "  </script>\n",
              "</div>\n",
              "    </div>\n",
              "  </div>\n"
            ]
          },
          "metadata": {},
          "execution_count": 88
        }
      ]
    },
    {
      "cell_type": "markdown",
      "source": [
        "### 8.1 Z-score table"
      ],
      "metadata": {
        "id": "O6gS-WKPRY_r"
      }
    },
    {
      "cell_type": "markdown",
      "source": [
        "![image1.png](data:image/png;base64,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)"
      ],
      "metadata": {
        "id": "neURCCrsWlXn"
      }
    },
    {
      "cell_type": "code",
      "source": [
        "z_score_table = 1.96"
      ],
      "metadata": {
        "id": "J3rZ3gvshDP7"
      },
      "execution_count": null,
      "outputs": []
    },
    {
      "cell_type": "markdown",
      "source": [
        "### 8.2 Calculation of the Z-criterion"
      ],
      "metadata": {
        "id": "DEPfFA6YRjmB"
      }
    },
    {
      "cell_type": "code",
      "source": [
        "a = df[df[\"variant\"] == 1][\"converted\"].sum()\n",
        "n1 = df[df[\"variant\"] == 1].shape[0]\n",
        "b = df[df[\"variant\"] == 0][\"converted\"].sum()\n",
        "n2 = df[df[\"variant\"] == 0].shape[0]\n",
        "\n",
        "print(a, n1, b, n2)"
      ],
      "metadata": {
        "colab": {
          "base_uri": "https://localhost:8080/"
        },
        "id": "jqj7gXnKhQQl",
        "outputId": "805e774e-5d1d-4427-ef75-4e03a72890ae"
      },
      "execution_count": null,
      "outputs": [
        {
          "output_type": "stream",
          "name": "stdout",
          "text": [
            "705 4946 371 5076\n"
          ]
        }
      ]
    },
    {
      "cell_type": "code",
      "source": [
        "p1, p2 = a/n1, b/n2\n",
        "print(p1, p2)"
      ],
      "metadata": {
        "colab": {
          "base_uri": "https://localhost:8080/"
        },
        "id": "YWdaPmdIiM1H",
        "outputId": "3b4e0c81-485a-43e6-f61f-93651fd85f7c"
      },
      "execution_count": null,
      "outputs": [
        {
          "output_type": "stream",
          "name": "stdout",
          "text": [
            "0.14253942579862516 0.0730890464933018\n"
          ]
        }
      ]
    },
    {
      "cell_type": "code",
      "source": [
        "P = (p1*n1 + p2*n2) / (n1 + n2)\n",
        "z = (p1 - p2) / (P * (1 - P) * (1/n1 + 1/n2))**(1/2)\n",
        "z"
      ],
      "metadata": {
        "colab": {
          "base_uri": "https://localhost:8080/"
        },
        "id": "WrEXdWYbihgV",
        "outputId": "02a68fbe-913e-4f23-b429-2d3a3e8f0a95"
      },
      "execution_count": null,
      "outputs": [
        {
          "output_type": "execute_result",
          "data": {
            "text/plain": [
              "11.228431692604532"
            ]
          },
          "metadata": {},
          "execution_count": 87
        }
      ]
    },
    {
      "cell_type": "markdown",
      "source": [
        "## 9 Choosing a hypothesis"
      ],
      "metadata": {
        "id": "XuAOeGNVSCJ0"
      }
    },
    {
      "cell_type": "code",
      "source": [
        "if abs(z) > z_score_table:\n",
        "    print(\"Отвергаем нулевую гипотезу\")\n",
        "else:\n",
        "    print(\"Не отвергаем нулевую гипотезу\")"
      ],
      "metadata": {
        "colab": {
          "base_uri": "https://localhost:8080/"
        },
        "id": "5Bh2xT7KinGv",
        "outputId": "926d9674-d21a-4a3d-9b28-f87392478281"
      },
      "execution_count": null,
      "outputs": [
        {
          "output_type": "stream",
          "name": "stdout",
          "text": [
            "Отвергаем нулевую гипотезу\n"
          ]
        }
      ]
    },
    {
      "cell_type": "code",
      "source": [
        "!pip install statsmodels"
      ],
      "metadata": {
        "colab": {
          "base_uri": "https://localhost:8080/"
        },
        "id": "Vmv-jeW0q676",
        "outputId": "00117a15-e6c5-4ff1-d1c5-8249c9730bbc"
      },
      "execution_count": null,
      "outputs": [
        {
          "output_type": "stream",
          "name": "stdout",
          "text": [
            "Requirement already satisfied: statsmodels in /usr/local/lib/python3.10/dist-packages (0.14.1)\n",
            "Requirement already satisfied: numpy<2,>=1.18 in /usr/local/lib/python3.10/dist-packages (from statsmodels) (1.23.5)\n",
            "Requirement already satisfied: scipy!=1.9.2,>=1.4 in /usr/local/lib/python3.10/dist-packages (from statsmodels) (1.11.4)\n",
            "Requirement already satisfied: pandas!=2.1.0,>=1.0 in /usr/local/lib/python3.10/dist-packages (from statsmodels) (1.5.3)\n",
            "Requirement already satisfied: patsy>=0.5.4 in /usr/local/lib/python3.10/dist-packages (from statsmodels) (0.5.6)\n",
            "Requirement already satisfied: packaging>=21.3 in /usr/local/lib/python3.10/dist-packages (from statsmodels) (23.2)\n",
            "Requirement already satisfied: python-dateutil>=2.8.1 in /usr/local/lib/python3.10/dist-packages (from pandas!=2.1.0,>=1.0->statsmodels) (2.8.2)\n",
            "Requirement already satisfied: pytz>=2020.1 in /usr/local/lib/python3.10/dist-packages (from pandas!=2.1.0,>=1.0->statsmodels) (2023.3.post1)\n",
            "Requirement already satisfied: six in /usr/local/lib/python3.10/dist-packages (from patsy>=0.5.4->statsmodels) (1.16.0)\n"
          ]
        }
      ]
    },
    {
      "cell_type": "code",
      "source": [
        "from statsmodels.stats import proportion\n",
        "\n",
        "z_score, z_pvalue = proportion.proportions_ztest(np.array([a, b]),\n",
        "                                                 np.array([n1, n2]))\n",
        "\n",
        "print(f'Results are z_score={z_score:.3f} pvalue={z_pvalue:.3f}')"
      ],
      "metadata": {
        "colab": {
          "base_uri": "https://localhost:8080/"
        },
        "id": "wXwscBf8rQDW",
        "outputId": "97765d1d-ddb0-4316-caf7-dcc80866ccd6"
      },
      "execution_count": null,
      "outputs": [
        {
          "output_type": "stream",
          "name": "stdout",
          "text": [
            "Results are z_score=11.228 pvalue=0.000\n"
          ]
        }
      ]
    },
    {
      "cell_type": "code",
      "source": [
        "chisq, pvalue, table = proportion.proportions_chisquare(np.array([a, b]),\n",
        "                                                        np.array([n1, n2]))\n",
        "\n",
        "print(f'Results are chisq={chisq:.3f} pvalue={pvalue:.3f}')"
      ],
      "metadata": {
        "colab": {
          "base_uri": "https://localhost:8080/"
        },
        "id": "ftEJ0Hx3rncP",
        "outputId": "5e372914-d940-4856-8fad-aa6d5e0060c3"
      },
      "execution_count": null,
      "outputs": [
        {
          "output_type": "stream",
          "name": "stdout",
          "text": [
            "Results are chisq=126.078 pvalue=0.000\n"
          ]
        }
      ]
    },
    {
      "cell_type": "code",
      "source": [
        "from scipy.stats import shapiro\n",
        "\n",
        "shapiro(df[\"converted\"])"
      ],
      "metadata": {
        "colab": {
          "base_uri": "https://localhost:8080/"
        },
        "id": "WZdJ_I8xrp95",
        "outputId": "689de162-68eb-47c0-e0ba-bf9701ac910a"
      },
      "execution_count": null,
      "outputs": [
        {
          "output_type": "stream",
          "name": "stderr",
          "text": [
            "/usr/local/lib/python3.10/dist-packages/scipy/stats/_morestats.py:1882: UserWarning: p-value may not be accurate for N > 5000.\n",
            "  warnings.warn(\"p-value may not be accurate for N > 5000.\")\n"
          ]
        },
        {
          "output_type": "execute_result",
          "data": {
            "text/plain": [
              "ShapiroResult(statistic=0.3562575578689575, pvalue=0.0)"
            ]
          },
          "metadata": {},
          "execution_count": 93
        }
      ]
    },
    {
      "cell_type": "code",
      "source": [
        "from scipy.stats import mannwhitneyu\n",
        "\n",
        "mw_stats = mannwhitneyu(x=df[df[\"variant\"] == 1][\"converted\"].values,\n",
        "                        y=df[df[\"variant\"] == 0][\"converted\"].values)\n",
        "\n",
        "mw_stats"
      ],
      "metadata": {
        "colab": {
          "base_uri": "https://localhost:8080/"
        },
        "id": "fED-a5c9sEh9",
        "outputId": "8b7fd41b-2078-4c4a-c170-59a799fe1388"
      },
      "execution_count": null,
      "outputs": [
        {
          "output_type": "execute_result",
          "data": {
            "text/plain": [
              "MannwhitneyuResult(statistic=13424755.0, pvalue=2.975821017513134e-29)"
            ]
          },
          "metadata": {},
          "execution_count": 95
        }
      ]
    }
  ]
}